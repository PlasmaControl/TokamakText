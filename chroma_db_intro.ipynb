{
 "cells": [
  {
   "cell_type": "code",
   "execution_count": null,
   "metadata": {},
   "outputs": [],
   "source": [
    "load_dotenv()"
   ]
  },
  {
   "cell_type": "code",
   "execution_count": null,
   "metadata": {},
   "outputs": [],
   "source": [
    "key = os.getenv(\"API_KEY\")\n",
    "client = OpenAI(api_key=key)\n",
    "chroma_client = None\n",
    "chroma_collection = None"
   ]
  },
  {
   "cell_type": "code",
   "execution_count": null,
   "metadata": {},
   "outputs": [],
   "source": [
    "data = [\n",
    "    \"hello world\",\n",
    "    \"Hello universe\",\n",
    "    \"What's up? How have you been?\",\n",
    "    \"He just said Hello and he was gone.\",\n",
    "    \"Emily said hello\"\n",
    "]\n",
    "\n",
    "query = \"Hello\""
   ]
  },
  {
   "cell_type": "code",
   "execution_count": null,
   "metadata": {},
   "outputs": [],
   "source": [
    "def create_collection():\n",
    "    chroma_client = chromadb.HttpClient()\n",
    "    \n",
    "    try:\n",
    "        collection = chroma_client.get_collection(\"test\")\n",
    "        if collection is not None:\n",
    "            chroma_client.delete_collection(\"test\")\n",
    "        chroma_collection = chroma_client.create_collection(\"test\")\n",
    "    except Exception as e:\n",
    "        chroma_collection = chroma_client.create_collection(\"test\")\n",
    "        \n",
    "    return chroma_collection"
   ]
  },
  {
   "cell_type": "code",
   "execution_count": null,
   "metadata": {},
   "outputs": [],
   "source": [
    "def add_collections(chroma_collection):\n",
    "    document_ids = [str(uuid.uuid4()) for _ in range(len(data))]\n",
    "    \n",
    "    chroma_collection.add(\n",
    "        documents=data,\n",
    "        ids=document_ids\n",
    "    )"
   ]
  },
  {
   "cell_type": "code",
   "execution_count": null,
   "metadata": {},
   "outputs": [],
   "source": [
    "def get_results(query):\n",
    "    results = chroma_collection.query(\n",
    "        query_texts=[query],\n",
    "        n_results=2,\n",
    "    )\n",
    "    results = json.dumps(results, indent=4)\n",
    "    print(results)"
   ]
  },
  {
   "cell_type": "code",
   "execution_count": null,
   "metadata": {},
   "outputs": [],
   "source": [
    "chroma_collection = create_collection()\n",
    "add_collections(chroma_collection)\n",
    "get_results(query)"
   ]
  }
 ],
 "metadata": {
  "language_info": {
   "name": "python"
  }
 },
 "nbformat": 4,
 "nbformat_minor": 2
}
